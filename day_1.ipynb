{
 "cells": [
  {
   "cell_type": "markdown",
   "id": "631cd4bb",
   "metadata": {},
   "source": [
    "### Handling Missing Values"
   ]
  },
  {
   "cell_type": "markdown",
   "id": "67bbfb16",
   "metadata": {},
   "source": [
    "#### Technique to handle missing values\n",
    "\n",
    "\n",
    "1. Delete the record missing values : applicable only for big dataset\n",
    "2. Create a seperate models to handle the missing vlaues: time taking\n",
    "3. Imputation:mean, median and mode: mostly applicable for any datasets \n"
   ]
  },
  {
   "cell_type": "markdown",
   "id": "f8337534",
   "metadata": {},
   "source": [
    "#### Import Required Libraries"
   ]
  },
  {
   "cell_type": "code",
   "execution_count": 1,
   "id": "3db9784b",
   "metadata": {},
   "outputs": [],
   "source": [
    "from pandas import*\n",
    "from numpy import*\n",
    "from seaborn import*\n",
    "import pandas as pd \n",
    "import numpy as np\n",
    "import seaborn as sns\n",
    "import matplotlib.pyplot as plt\n",
    "\n",
    "from sklearn.preprocessing import LabelEncoder\n",
    "from sklearn.impute import SimpleImputer\n",
    "\n",
    "from sklearn.experimental import enable_iterative_imputer\n",
    "from sklearn.impute import IterativeImputer"
   ]
  },
  {
   "cell_type": "markdown",
   "id": "aaa7fe41",
   "metadata": {},
   "source": [
    "####  Importing and Exploring the Data"
   ]
  },
  {
   "cell_type": "code",
   "execution_count": 18,
   "id": "ed2bc923",
   "metadata": {},
   "outputs": [],
   "source": [
    "pd.set_option('display.max_columns', None)\n",
    "plt.rcParams[\"figure.figsize\"] = (8, 4);"
   ]
  },
  {
   "cell_type": "code",
   "execution_count": 3,
   "id": "7b7bec68",
   "metadata": {},
   "outputs": [
    {
     "data": {
      "text/html": [
       "<div>\n",
       "<style scoped>\n",
       "    .dataframe tbody tr th:only-of-type {\n",
       "        vertical-align: middle;\n",
       "    }\n",
       "\n",
       "    .dataframe tbody tr th {\n",
       "        vertical-align: top;\n",
       "    }\n",
       "\n",
       "    .dataframe thead th {\n",
       "        text-align: right;\n",
       "    }\n",
       "</style>\n",
       "<table border=\"1\" class=\"dataframe\">\n",
       "  <thead>\n",
       "    <tr style=\"text-align: right;\">\n",
       "      <th></th>\n",
       "      <th>year</th>\n",
       "      <th>month</th>\n",
       "      <th>day</th>\n",
       "      <th>dep_time</th>\n",
       "      <th>dep_delay</th>\n",
       "      <th>arr_time</th>\n",
       "      <th>arr_delay</th>\n",
       "      <th>carrier</th>\n",
       "      <th>tailnum</th>\n",
       "      <th>flight</th>\n",
       "      <th>origin</th>\n",
       "      <th>dest</th>\n",
       "      <th>air_time</th>\n",
       "      <th>distance</th>\n",
       "      <th>hour</th>\n",
       "      <th>minute</th>\n",
       "    </tr>\n",
       "  </thead>\n",
       "  <tbody>\n",
       "    <tr>\n",
       "      <th>0</th>\n",
       "      <td>2013</td>\n",
       "      <td>1</td>\n",
       "      <td>1</td>\n",
       "      <td>517.0</td>\n",
       "      <td>2.0</td>\n",
       "      <td>830.0</td>\n",
       "      <td>11.0</td>\n",
       "      <td>UA</td>\n",
       "      <td>N14228</td>\n",
       "      <td>1545</td>\n",
       "      <td>EWR</td>\n",
       "      <td>IAH</td>\n",
       "      <td>227.0</td>\n",
       "      <td>1400</td>\n",
       "      <td>5.0</td>\n",
       "      <td>17.0</td>\n",
       "    </tr>\n",
       "    <tr>\n",
       "      <th>1</th>\n",
       "      <td>2013</td>\n",
       "      <td>1</td>\n",
       "      <td>1</td>\n",
       "      <td>533.0</td>\n",
       "      <td>4.0</td>\n",
       "      <td>850.0</td>\n",
       "      <td>20.0</td>\n",
       "      <td>UA</td>\n",
       "      <td>N24211</td>\n",
       "      <td>1714</td>\n",
       "      <td>LGA</td>\n",
       "      <td>IAH</td>\n",
       "      <td>227.0</td>\n",
       "      <td>1416</td>\n",
       "      <td>5.0</td>\n",
       "      <td>33.0</td>\n",
       "    </tr>\n",
       "    <tr>\n",
       "      <th>2</th>\n",
       "      <td>2013</td>\n",
       "      <td>1</td>\n",
       "      <td>1</td>\n",
       "      <td>542.0</td>\n",
       "      <td>2.0</td>\n",
       "      <td>923.0</td>\n",
       "      <td>33.0</td>\n",
       "      <td>AA</td>\n",
       "      <td>N619AA</td>\n",
       "      <td>1141</td>\n",
       "      <td>JFK</td>\n",
       "      <td>MIA</td>\n",
       "      <td>160.0</td>\n",
       "      <td>1089</td>\n",
       "      <td>5.0</td>\n",
       "      <td>42.0</td>\n",
       "    </tr>\n",
       "    <tr>\n",
       "      <th>3</th>\n",
       "      <td>2013</td>\n",
       "      <td>1</td>\n",
       "      <td>1</td>\n",
       "      <td>554.0</td>\n",
       "      <td>-6.0</td>\n",
       "      <td>812.0</td>\n",
       "      <td>-25.0</td>\n",
       "      <td>DL</td>\n",
       "      <td>N668DN</td>\n",
       "      <td>461</td>\n",
       "      <td>LGA</td>\n",
       "      <td>ATL</td>\n",
       "      <td>116.0</td>\n",
       "      <td>762</td>\n",
       "      <td>5.0</td>\n",
       "      <td>54.0</td>\n",
       "    </tr>\n",
       "    <tr>\n",
       "      <th>4</th>\n",
       "      <td>2013</td>\n",
       "      <td>1</td>\n",
       "      <td>1</td>\n",
       "      <td>554.0</td>\n",
       "      <td>-4.0</td>\n",
       "      <td>740.0</td>\n",
       "      <td>12.0</td>\n",
       "      <td>UA</td>\n",
       "      <td>N39463</td>\n",
       "      <td>1696</td>\n",
       "      <td>EWR</td>\n",
       "      <td>ORD</td>\n",
       "      <td>150.0</td>\n",
       "      <td>719</td>\n",
       "      <td>5.0</td>\n",
       "      <td>54.0</td>\n",
       "    </tr>\n",
       "  </tbody>\n",
       "</table>\n",
       "</div>"
      ],
      "text/plain": [
       "   year  month  day  dep_time  dep_delay  arr_time  arr_delay carrier tailnum  \\\n",
       "0  2013      1    1     517.0        2.0     830.0       11.0      UA  N14228   \n",
       "1  2013      1    1     533.0        4.0     850.0       20.0      UA  N24211   \n",
       "2  2013      1    1     542.0        2.0     923.0       33.0      AA  N619AA   \n",
       "3  2013      1    1     554.0       -6.0     812.0      -25.0      DL  N668DN   \n",
       "4  2013      1    1     554.0       -4.0     740.0       12.0      UA  N39463   \n",
       "\n",
       "   flight origin dest  air_time  distance  hour  minute  \n",
       "0    1545    EWR  IAH     227.0      1400   5.0    17.0  \n",
       "1    1714    LGA  IAH     227.0      1416   5.0    33.0  \n",
       "2    1141    JFK  MIA     160.0      1089   5.0    42.0  \n",
       "3     461    LGA  ATL     116.0       762   5.0    54.0  \n",
       "4    1696    EWR  ORD     150.0       719   5.0    54.0  "
      ]
     },
     "execution_count": 3,
     "metadata": {},
     "output_type": "execute_result"
    }
   ],
   "source": [
    "data = read_csv('flights.csv')\n",
    "data.head()"
   ]
  },
  {
   "cell_type": "code",
   "execution_count": 4,
   "id": "9215ab74",
   "metadata": {},
   "outputs": [
    {
     "data": {
      "text/plain": [
       "(160754, 16)"
      ]
     },
     "execution_count": 4,
     "metadata": {},
     "output_type": "execute_result"
    }
   ],
   "source": [
    "data.shape"
   ]
  },
  {
   "cell_type": "markdown",
   "id": "75f4ba64",
   "metadata": {},
   "source": [
    "We have 16 columns in total, 15 of them are feature columns and minute is the target column"
   ]
  },
  {
   "cell_type": "code",
   "execution_count": 33,
   "id": "fc96c02f",
   "metadata": {},
   "outputs": [
    {
     "data": {
      "text/plain": [
       "year            0\n",
       "month           0\n",
       "day             0\n",
       "dep_time     2336\n",
       "dep_delay    2336\n",
       "arr_time     2479\n",
       "arr_delay    2827\n",
       "carrier         0\n",
       "tailnum      1433\n",
       "flight          0\n",
       "origin          0\n",
       "dest            0\n",
       "air_time     2827\n",
       "distance        0\n",
       "hour         2336\n",
       "minute       2336\n",
       "dtype: int64"
      ]
     },
     "execution_count": 33,
     "metadata": {},
     "output_type": "execute_result"
    }
   ],
   "source": [
    "data.isnull().sum()"
   ]
  },
  {
   "cell_type": "markdown",
   "id": "8ca5853b",
   "metadata": {},
   "source": [
    "#### Missing Values Indicator"
   ]
  },
  {
   "cell_type": "code",
   "execution_count": 6,
   "id": "beec988b",
   "metadata": {},
   "outputs": [],
   "source": [
    "from sklearn.impute import MissingIndicator"
   ]
  },
  {
   "cell_type": "code",
   "execution_count": 9,
   "id": "4206cc1c",
   "metadata": {},
   "outputs": [],
   "source": [
    "feature_cols = [col for col in data.columns if col not in ['minute']]\n",
    "target_cols = ['minute']\n",
    "\n",
    "cat_cols = [col for col in feature_cols if data[col].dtype == 'O']\n",
    "cont_cols = [col for col in feature_cols if col not in cat_cols]"
   ]
  },
  {
   "cell_type": "code",
   "execution_count": 10,
   "id": "fe8070f1",
   "metadata": {},
   "outputs": [
    {
     "data": {
      "text/plain": [
       "(160754, 7)"
      ]
     },
     "execution_count": 10,
     "metadata": {},
     "output_type": "execute_result"
    }
   ],
   "source": [
    "df_miss = data.copy()\n",
    "miss_indi = MissingIndicator()\n",
    "miss_rc = miss_indi.fit_transform(df_miss[feature_cols])\n",
    "miss_rc.shape"
   ]
  },
  {
   "cell_type": "markdown",
   "id": "6eb092d3",
   "metadata": {},
   "source": [
    "**Rows with Missing Values**"
   ]
  },
  {
   "cell_type": "code",
   "execution_count": 11,
   "id": "94b8339d",
   "metadata": {},
   "outputs": [
    {
     "data": {
      "text/plain": [
       "2827"
      ]
     },
     "execution_count": 11,
     "metadata": {},
     "output_type": "execute_result"
    }
   ],
   "source": [
    "sum(data.isna().sum(axis = 1) > 0)"
   ]
  },
  {
   "cell_type": "markdown",
   "id": "cbb68a1d",
   "metadata": {},
   "source": [
    " **Columns with Missing Values**"
   ]
  },
  {
   "cell_type": "code",
   "execution_count": 12,
   "id": "988e1608",
   "metadata": {},
   "outputs": [
    {
     "data": {
      "text/plain": [
       "8"
      ]
     },
     "execution_count": 12,
     "metadata": {},
     "output_type": "execute_result"
    }
   ],
   "source": [
    "sum(data.isna().sum(axis = 0) > 0)"
   ]
  },
  {
   "cell_type": "markdown",
   "id": "8765e3a1",
   "metadata": {},
   "source": [
    "#### Heatmap for missing data"
   ]
  },
  {
   "cell_type": "code",
   "execution_count": 19,
   "id": "831e7010",
   "metadata": {},
   "outputs": [
    {
     "data": {
      "text/plain": [
       "<AxesSubplot:>"
      ]
     },
     "execution_count": 19,
     "metadata": {},
     "output_type": "execute_result"
    },
    {
     "data": {
      "image/png": "[encoded data removed]",
      "text/plain": [
       "<Figure size 576x288 with 1 Axes>"
      ]
     },
     "metadata": {
      "needs_background": "light"
     },
     "output_type": "display_data"
    }
   ],
   "source": [
    "sns.heatmap(data.isnull(),yticklabels=False,cbar = False, cmap = 'viridis')"
   ]
  },
  {
   "cell_type": "markdown",
   "id": "2e895fa4",
   "metadata": {},
   "source": [
    " #### Univariate Imputation Using  Simple Imputer"
   ]
  },
  {
   "cell_type": "markdown",
   "id": "87330dd6",
   "metadata": {},
   "source": [
    "**Imputing Continuous Variables**"
   ]
  },
  {
   "cell_type": "code",
   "execution_count": 26,
   "id": "bb5d5648",
   "metadata": {},
   "outputs": [],
   "source": [
    "df_simple_imputer = data.copy()\n",
    "imputer = SimpleImputer(strategy='mean')\n",
    "\n",
    "df_simple_imputer[cont_cols] = imputer.fit_transform(df_simple_imputer[cont_cols])"
   ]
  },
  {
   "cell_type": "markdown",
   "id": "8ae8cc2e",
   "metadata": {},
   "source": [
    "**Imputing Categorical Variables**"
   ]
  },
  {
   "cell_type": "code",
   "execution_count": 31,
   "id": "ad41d193",
   "metadata": {},
   "outputs": [],
   "source": [
    "imputer = SimpleImputer(strategy='most_frequent')\n",
    "\n",
    "df_simple_imputer[cat_cols] = imputer.fit_transform(df_simple_imputer[cat_cols])"
   ]
  },
  {
   "cell_type": "code",
   "execution_count": 32,
   "id": "4a8bdf8f",
   "metadata": {},
   "outputs": [
    {
     "data": {
      "image/png": "[encoded data removed]",
      "text/plain": [
       "<Figure size 576x288 with 1 Axes>"
      ]
     },
     "metadata": {
      "needs_background": "light"
     },
     "output_type": "display_data"
    }
   ],
   "source": [
    "sns.heatmap(df_simple_imputer.isnull(), cmap='Blues', cbar=False, yticklabels=False, xticklabels=data.columns);"
   ]
  },
  {
   "cell_type": "markdown",
   "id": "b470f9d9",
   "metadata": {},
   "source": [
    "**Done**"
   ]
  }
 ],
 "metadata": {
  "kernelspec": {
   "display_name": "Python 3",
   "language": "python",
   "name": "python3"
  },
  "language_info": {
   "codemirror_mode": {
    "name": "ipython",
    "version": 3
   },
   "file_extension": ".py",
   "mimetype": "text/x-python",
   "name": "python",
   "nbconvert_exporter": "python",
   "pygments_lexer": "ipython3",
   "version": "3.8.8"
  }
 },
 "nbformat": 4,
 "nbformat_minor": 5
}
